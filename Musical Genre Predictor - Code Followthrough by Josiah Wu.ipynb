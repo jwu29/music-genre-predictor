{
 "cells": [
  {
   "cell_type": "code",
   "execution_count": 261,
   "id": "b4ae2117",
   "metadata": {},
   "outputs": [
    {
     "name": "stdout",
     "output_type": "stream",
     "text": [
      "Requirement already satisfied: opendatasets in ./opt/anaconda3/lib/python3.8/site-packages (0.1.20)\n",
      "Requirement already satisfied: kaggle in ./opt/anaconda3/lib/python3.8/site-packages (from opendatasets) (1.5.12)\n",
      "Requirement already satisfied: tqdm in ./opt/anaconda3/lib/python3.8/site-packages (from opendatasets) (4.59.0)\n",
      "Requirement already satisfied: click in ./opt/anaconda3/lib/python3.8/site-packages (from opendatasets) (7.1.2)\n",
      "Requirement already satisfied: certifi in ./opt/anaconda3/lib/python3.8/site-packages (from kaggle->opendatasets) (2020.12.5)\n",
      "Requirement already satisfied: python-slugify in ./opt/anaconda3/lib/python3.8/site-packages (from kaggle->opendatasets) (5.0.2)\n",
      "Requirement already satisfied: requests in ./opt/anaconda3/lib/python3.8/site-packages (from kaggle->opendatasets) (2.25.1)\n",
      "Requirement already satisfied: six>=1.10 in ./opt/anaconda3/lib/python3.8/site-packages (from kaggle->opendatasets) (1.15.0)\n",
      "Requirement already satisfied: python-dateutil in ./opt/anaconda3/lib/python3.8/site-packages (from kaggle->opendatasets) (2.8.1)\n",
      "Requirement already satisfied: urllib3 in ./opt/anaconda3/lib/python3.8/site-packages (from kaggle->opendatasets) (1.26.4)\n",
      "Requirement already satisfied: text-unidecode>=1.3 in ./opt/anaconda3/lib/python3.8/site-packages (from python-slugify->kaggle->opendatasets) (1.3)\n",
      "Requirement already satisfied: chardet<5,>=3.0.2 in ./opt/anaconda3/lib/python3.8/site-packages (from requests->kaggle->opendatasets) (4.0.0)\n",
      "Requirement already satisfied: idna<3,>=2.5 in ./opt/anaconda3/lib/python3.8/site-packages (from requests->kaggle->opendatasets) (2.10)\n"
     ]
    }
   ],
   "source": [
    "### import dataset\n",
    "!pip install opendatasets"
   ]
  },
  {
   "cell_type": "code",
   "execution_count": 262,
   "id": "f4a479e7",
   "metadata": {},
   "outputs": [
    {
     "name": "stdout",
     "output_type": "stream",
     "text": [
      "Skipping, found downloaded files in \"./prediction-of-music-genre\" (use force=True to force download)\n"
     ]
    }
   ],
   "source": [
    "import opendatasets as od\n",
    "dataset = 'https://www.kaggle.com/vicsuperman/prediction-of-music-genre/download'\n",
    "od.download(dataset)\n",
    "## username and key can be found on your Kaggle account --> Account --> API --> Create API Token --> open the \n",
    "## .json file"
   ]
  },
  {
   "cell_type": "code",
   "execution_count": 263,
   "id": "ccce5baa",
   "metadata": {},
   "outputs": [
    {
     "data": {
      "text/plain": [
       "['music_genre.csv']"
      ]
     },
     "execution_count": 263,
     "metadata": {},
     "output_type": "execute_result"
    }
   ],
   "source": [
    "import os\n",
    "import pandas as pd\n",
    "data_dir = './prediction-of-music-genre'\n",
    "os.listdir(data_dir)"
   ]
  },
  {
   "cell_type": "code",
   "execution_count": 294,
   "id": "a13e4319",
   "metadata": {},
   "outputs": [
    {
     "name": "stdout",
     "output_type": "stream",
     "text": [
      "   instance_id           artist_name            track_name  popularity  \\\n",
      "0      32894.0              Röyksopp  Röyksopp's Night Out        27.0   \n",
      "1      46652.0  Thievery Corporation      The Shining Path        31.0   \n",
      "2      30097.0        Dillon Francis             Hurricane        28.0   \n",
      "3      62177.0              Dubloadz                 Nitro        34.0   \n",
      "4      24907.0           What So Not      Divide & Conquer        32.0   \n",
      "\n",
      "   acousticness  danceability  duration_ms  energy  instrumentalness key  \\\n",
      "0       0.00468         0.652         -1.0   0.941           0.79200  A#   \n",
      "1       0.01270         0.622     218293.0   0.890           0.95000   D   \n",
      "2       0.00306         0.620     215613.0   0.755           0.01180  G#   \n",
      "3       0.02540         0.774     166875.0   0.700           0.00253  C#   \n",
      "4       0.00465         0.638     222369.0   0.587           0.90900  F#   \n",
      "\n",
      "   liveness  loudness   mode  speechiness               tempo obtained_date  \\\n",
      "0     0.115    -5.201  Minor       0.0748             100.889         4-Apr   \n",
      "1     0.124    -7.043  Minor       0.0300  115.00200000000001         4-Apr   \n",
      "2     0.534    -4.617  Major       0.0345             127.994         4-Apr   \n",
      "3     0.157    -4.498  Major       0.2390             128.014         4-Apr   \n",
      "4     0.157    -6.266  Major       0.0413             145.036         4-Apr   \n",
      "\n",
      "   valence music_genre  \n",
      "0    0.759  Electronic  \n",
      "1    0.531  Electronic  \n",
      "2    0.333  Electronic  \n",
      "3    0.270  Electronic  \n",
      "4    0.323  Electronic  \n"
     ]
    }
   ],
   "source": [
    "df = pd.read_csv('prediction-of-music-genre/music_genre.csv')\n",
    "print(df.head())"
   ]
  },
  {
   "cell_type": "code",
   "execution_count": 295,
   "id": "fb5c742d",
   "metadata": {},
   "outputs": [
    {
     "name": "stdout",
     "output_type": "stream",
     "text": [
      "       popularity  acousticness  danceability  duration_ms  energy  \\\n",
      "9995         39.0      0.030100         0.504     302080.0   0.860   \n",
      "9996         33.0      0.000456         0.517     258480.0   0.868   \n",
      "9997         21.0      0.106000         0.527     134787.0   0.262   \n",
      "9998         44.0      0.030300         0.271     275933.0   0.969   \n",
      "9999         14.0      0.020000         0.573     226374.0   0.921   \n",
      "10000         NaN           NaN           NaN          NaN     NaN   \n",
      "10001         NaN           NaN           NaN          NaN     NaN   \n",
      "10002         NaN           NaN           NaN          NaN     NaN   \n",
      "10003         NaN           NaN           NaN          NaN     NaN   \n",
      "10004         NaN           NaN           NaN          NaN     NaN   \n",
      "10005        44.0      0.006210         0.711     285987.0   0.621   \n",
      "\n",
      "       instrumentalness  key  liveness  loudness   mode  speechiness  \\\n",
      "9995           0.000038   F#     0.254    -4.059  Major       0.1380   \n",
      "9996           0.000594    B     0.183    -3.696  Minor       0.0343   \n",
      "9997           0.167000    F     0.146   -17.812  Major       0.0394   \n",
      "9998           0.000490   C#     0.301    -2.539  Major       0.0678   \n",
      "9999           0.000004   F#     0.325    -3.841  Major       0.0734   \n",
      "10000               NaN  NaN       NaN       NaN    NaN          NaN   \n",
      "10001               NaN  NaN       NaN       NaN    NaN          NaN   \n",
      "10002               NaN  NaN       NaN       NaN    NaN          NaN   \n",
      "10003               NaN  NaN       NaN       NaN    NaN          NaN   \n",
      "10004               NaN  NaN       NaN       NaN    NaN          NaN   \n",
      "10005          0.029700    G     0.159    -7.429  Major       0.0382   \n",
      "\n",
      "                    tempo  valence music_genre  \n",
      "9995              134.143   0.8310       Anime  \n",
      "9996               136.98   0.5900       Anime  \n",
      "9997              125.023   0.0394       Anime  \n",
      "9998   180.05700000000002   0.4800       Anime  \n",
      "9999              135.029   0.5990       Anime  \n",
      "10000                 NaN      NaN         NaN  \n",
      "10001                 NaN      NaN         NaN  \n",
      "10002                 NaN      NaN         NaN  \n",
      "10003                 NaN      NaN         NaN  \n",
      "10004                 NaN      NaN         NaN  \n",
      "10005             142.065   0.6070        Jazz  \n"
     ]
    }
   ],
   "source": [
    "## remove irrelevant columns\n",
    "del df['instance_id'], df['artist_name'], df['track_name'], df['obtained_date'] \n",
    "print(df.loc[9995:10005])"
   ]
  },
  {
   "cell_type": "code",
   "execution_count": 296,
   "id": "73330c4b",
   "metadata": {},
   "outputs": [
    {
     "name": "stdout",
     "output_type": "stream",
     "text": [
      "       popularity  acousticness  danceability  duration_ms  energy  \\\n",
      "9995         39.0      0.030100         0.504     302080.0   0.860   \n",
      "9996         33.0      0.000456         0.517     258480.0   0.868   \n",
      "9997         21.0      0.106000         0.527     134787.0   0.262   \n",
      "9998         44.0      0.030300         0.271     275933.0   0.969   \n",
      "9999         14.0      0.020000         0.573     226374.0   0.921   \n",
      "10005        44.0      0.006210         0.711     285987.0   0.621   \n",
      "\n",
      "       instrumentalness key  liveness  loudness   mode  speechiness  \\\n",
      "9995           0.000038  F#     0.254    -4.059  Major       0.1380   \n",
      "9996           0.000594   B     0.183    -3.696  Minor       0.0343   \n",
      "9997           0.167000   F     0.146   -17.812  Major       0.0394   \n",
      "9998           0.000490  C#     0.301    -2.539  Major       0.0678   \n",
      "9999           0.000004  F#     0.325    -3.841  Major       0.0734   \n",
      "10005          0.029700   G     0.159    -7.429  Major       0.0382   \n",
      "\n",
      "                    tempo  valence music_genre  \n",
      "9995              134.143   0.8310       Anime  \n",
      "9996               136.98   0.5900       Anime  \n",
      "9997              125.023   0.0394       Anime  \n",
      "9998   180.05700000000002   0.4800       Anime  \n",
      "9999              135.029   0.5990       Anime  \n",
      "10005             142.065   0.6070        Jazz  \n"
     ]
    }
   ],
   "source": [
    "## remove blank rows\n",
    "df = df.dropna(how='any',axis=0) \n",
    "print(df.loc[9995:10005])"
   ]
  },
  {
   "cell_type": "code",
   "execution_count": 297,
   "id": "9f6eb4ed",
   "metadata": {},
   "outputs": [
    {
     "name": "stdout",
     "output_type": "stream",
     "text": [
      "0.09878\n",
      "0.0996\n"
     ]
    }
   ],
   "source": [
    "## calculate proportion of unknown data\n",
    "unknown_duration = df[df['duration_ms']==-1].shape[0]\n",
    "unknown_tempo = df[df['tempo']=='?'].shape[0]\n",
    "print(unknown_duration/(df.shape[0]))\n",
    "print(unknown_tempo/(df.shape[0]))"
   ]
  },
  {
   "cell_type": "code",
   "execution_count": 298,
   "id": "6845bcfc",
   "metadata": {},
   "outputs": [
    {
     "name": "stdout",
     "output_type": "stream",
     "text": [
      "Rock           4099\n",
      "Hip-Hop        4077\n",
      "Anime          4064\n",
      "Jazz           4064\n",
      "Alternative    4051\n",
      "Country        4049\n",
      "Blues          4046\n",
      "Rap            4042\n",
      "Classical      4036\n",
      "Electronic     4032\n",
      "Name: music_genre, dtype: int64\n"
     ]
    }
   ],
   "source": [
    "## delete rows containing unknown values\n",
    "df = df[df['tempo']!='?'] \n",
    "df = df[df['duration_ms']!=-1.0]\n",
    "df['tempo'] = df['tempo'].astype(float) \n",
    "print(df['music_genre'].value_counts()) "
   ]
  },
  {
   "cell_type": "code",
   "execution_count": 299,
   "id": "845aacd5",
   "metadata": {},
   "outputs": [
    {
     "name": "stdout",
     "output_type": "stream",
     "text": [
      "1    0\n",
      "2    0\n",
      "3    0\n",
      "4    0\n",
      "6    0\n",
      "Name: music_genre, dtype: int64\n"
     ]
    }
   ],
   "source": [
    "## converting 'music_genre' from str to int\n",
    "df_genre = df['music_genre']\n",
    "genre = df_genre.to_numpy()\n",
    "GenreDict = {\n",
    "    \"Electronic\": 0,\n",
    "    \"Anime\": 1,\n",
    "    \"Jazz\": 2,\n",
    "    \"Alternative\": 3,\n",
    "    \"Country\": 4,\n",
    "    \"Rap\": 5,\n",
    "    \"Blues\": 6,\n",
    "    \"Rock\": 7,\n",
    "    \"Classical\": 8,\n",
    "    \"Hip-Hop\": 9,\n",
    "}\n",
    "def transform_genres(arr):\n",
    "    genre_list = []\n",
    "    for x in range(arr.shape[0]):\n",
    "        g = GenreDict[arr[x]]\n",
    "        genre_list.append(g)\n",
    "    return genre_list\n",
    "df['music_genre'] = transform_genres(genre)\n",
    "print(df['music_genre'].head())"
   ]
  },
  {
   "cell_type": "code",
   "execution_count": 300,
   "id": "6a745c50",
   "metadata": {},
   "outputs": [
    {
     "name": "stdout",
     "output_type": "stream",
     "text": [
      "   popularity  acousticness  danceability  duration_ms  energy  \\\n",
      "1        31.0       0.01270         0.622     218293.0   0.890   \n",
      "2        28.0       0.00306         0.620     215613.0   0.755   \n",
      "3        34.0       0.02540         0.774     166875.0   0.700   \n",
      "4        32.0       0.00465         0.638     222369.0   0.587   \n",
      "6        46.0       0.02890         0.572     214408.0   0.803   \n",
      "\n",
      "   instrumentalness  liveness  loudness  speechiness    tempo  ...  scale_E  \\\n",
      "1          0.950000     0.124    -7.043       0.0300  115.002  ...        0   \n",
      "2          0.011800     0.534    -4.617       0.0345  127.994  ...        0   \n",
      "3          0.002530     0.157    -4.498       0.2390  128.014  ...        0   \n",
      "4          0.909000     0.157    -6.266       0.0413  145.036  ...        0   \n",
      "6          0.000008     0.106    -4.294       0.3510  149.995  ...        0   \n",
      "\n",
      "   scale_Em  scale_F  scale_F#  scale_F#m  scale_Fm  scale_G  scale_G#  \\\n",
      "1         0        0         0          0         0        0         0   \n",
      "2         0        0         0          0         0        0         1   \n",
      "3         0        0         0          0         0        0         0   \n",
      "4         0        0         1          0         0        0         0   \n",
      "6         0        0         0          0         0        0         0   \n",
      "\n",
      "   scale_G#m  scale_Gm  \n",
      "1          0         0  \n",
      "2          0         0  \n",
      "3          0         0  \n",
      "4          0         0  \n",
      "6          0         0  \n",
      "\n",
      "[5 rows x 36 columns]\n"
     ]
    }
   ],
   "source": [
    "## combine 'key' and 'mode' to 'scale' and then one-hot encode 'scale'\n",
    "df_key = df[['key','mode']].fillna(\"\")\n",
    "key = df_key.to_numpy()\n",
    "\n",
    "KeyDict = {\n",
    "    \"Major\": \"\",\n",
    "    \"Minor\": \"m\",\n",
    "    \"\":\"\"\n",
    "}\n",
    "def transform_scales(arr):\n",
    "    scale_list = []\n",
    "    for x in range(arr.shape[0]):\n",
    "        rootnote = arr[x][0]\n",
    "        mode = KeyDict[arr[x][1]]\n",
    "        if rootnote != \"\":\n",
    "            scale = rootnote + mode\n",
    "        scale_list.append(scale)\n",
    "    return scale_list\n",
    "df['scale'] = transform_scales(key)\n",
    "\n",
    "y = pd.get_dummies(df.scale, prefix='scale')\n",
    "del df['key'], df['mode']\n",
    "df = df.drop('scale',axis=1)\n",
    "df = df.join(y)\n",
    "print(df.head())"
   ]
  },
  {
   "cell_type": "code",
   "execution_count": 301,
   "id": "bf12afc5",
   "metadata": {},
   "outputs": [
    {
     "name": "stdout",
     "output_type": "stream",
     "text": [
      "Index(['popularity', 'acousticness', 'danceability', 'duration_ms', 'energy',\n",
      "       'instrumentalness', 'liveness', 'loudness', 'speechiness', 'tempo',\n",
      "       'valence', 'scale_Cm', 'scale_C', 'scale_C#m', 'scale_C#', 'scale_Dm',\n",
      "       'scale_D', 'scale_D#m', 'scale_D#', 'scale_Em', 'scale_E', 'scale_Fm',\n",
      "       'scale_F', 'scale_F#m', 'scale_F#', 'scale_Gm', 'scale_G', 'scale_G#m',\n",
      "       'scale_G#', 'scale_Am', 'scale_A', 'scale_A#m', 'scale_A#', 'scale_Bm',\n",
      "       'scale_B', 'music_genre'],\n",
      "      dtype='object')\n"
     ]
    }
   ],
   "source": [
    "## reorder columns\n",
    "df = df[['popularity','acousticness','danceability','duration_ms','energy','instrumentalness','liveness','loudness','speechiness','tempo','valence','scale_Cm','scale_C','scale_C#m','scale_C#','scale_Dm','scale_D','scale_D#m','scale_D#','scale_Em','scale_E','scale_Fm','scale_F','scale_F#m','scale_F#','scale_Gm','scale_G','scale_G#m','scale_G#','scale_Am','scale_A','scale_A#m','scale_A#','scale_Bm','scale_B','music_genre']]\n",
    "print(df.columns)"
   ]
  },
  {
   "cell_type": "code",
   "execution_count": 302,
   "id": "eb8b53a5",
   "metadata": {},
   "outputs": [],
   "source": [
    "## Splitting the dataset into TRAINING data and TEST data\n",
    "import tensorflow as tf\n",
    "import keras\n",
    "import pandas as pd\n",
    "from sklearn.model_selection import train_test_split\n",
    "\n",
    "X = df.drop(columns=['music_genre'])\n",
    "Y = df[['music_genre']]\n",
    "X_train, X_test, Y_train, Y_test = train_test_split(X, Y, test_size=0.2, random_state=42)"
   ]
  },
  {
   "cell_type": "code",
   "execution_count": 303,
   "id": "cffa818c",
   "metadata": {},
   "outputs": [
    {
     "name": "stdout",
     "output_type": "stream",
     "text": [
      "       popularity  acousticness  danceability  duration_ms  energy  \\\n",
      "49054    0.595960      0.007500         0.796     0.048330   0.357   \n",
      "44947    0.292929      0.760000         0.169     0.057152   0.158   \n",
      "68       0.272727      0.000355         0.814     0.081022   0.877   \n",
      "3934     0.303030      0.005330         0.421     0.033191   0.800   \n",
      "14954    0.333333      0.488000         0.814     0.045129   0.693   \n",
      "\n",
      "       instrumentalness  liveness  loudness  speechiness     tempo  ...  \\\n",
      "49054             0.000    0.0966  0.721870       0.3440  0.622238  ...   \n",
      "44947             0.930    0.1040  0.570650       0.0396  0.422236  ...   \n",
      "68                0.455    0.2060  0.820614       0.0533  0.471449  ...   \n",
      "3934              0.332    0.3810  0.840820       0.3030  0.836814  ...   \n",
      "14954             0.190    0.1080  0.813695       0.0360  0.487600  ...   \n",
      "\n",
      "       scale_Gm  scale_G  scale_G#m  scale_G#  scale_Am  scale_A  scale_A#m  \\\n",
      "49054         0        0          0         0         0        0          0   \n",
      "44947         0        0          0         0         0        0          0   \n",
      "68            0        0          0         0         0        0          0   \n",
      "3934          0        0          0         0         0        0          0   \n",
      "14954         0        0          0         0         0        0          0   \n",
      "\n",
      "       scale_A#  scale_Bm  scale_B  \n",
      "49054         0         0        0  \n",
      "44947         0         0        0  \n",
      "68            0         0        0  \n",
      "3934          0         0        1  \n",
      "14954         0         1        0  \n",
      "\n",
      "[5 rows x 35 columns]\n"
     ]
    },
    {
     "name": "stderr",
     "output_type": "stream",
     "text": [
      "<ipython-input-303-84ea5a385f62>:18: SettingWithCopyWarning: \n",
      "A value is trying to be set on a copy of a slice from a DataFrame.\n",
      "Try using .loc[row_indexer,col_indexer] = value instead\n",
      "\n",
      "See the caveats in the documentation: https://pandas.pydata.org/pandas-docs/stable/user_guide/indexing.html#returning-a-view-versus-a-copy\n",
      "  X_train['loudness'] = NormalizeTrain('loudness')\n",
      "<ipython-input-303-84ea5a385f62>:19: SettingWithCopyWarning: \n",
      "A value is trying to be set on a copy of a slice from a DataFrame.\n",
      "Try using .loc[row_indexer,col_indexer] = value instead\n",
      "\n",
      "See the caveats in the documentation: https://pandas.pydata.org/pandas-docs/stable/user_guide/indexing.html#returning-a-view-versus-a-copy\n",
      "  X_train['duration_ms'] = NormalizeTrain('duration_ms')\n",
      "<ipython-input-303-84ea5a385f62>:20: SettingWithCopyWarning: \n",
      "A value is trying to be set on a copy of a slice from a DataFrame.\n",
      "Try using .loc[row_indexer,col_indexer] = value instead\n",
      "\n",
      "See the caveats in the documentation: https://pandas.pydata.org/pandas-docs/stable/user_guide/indexing.html#returning-a-view-versus-a-copy\n",
      "  X_train['popularity'] = NormalizeTrain('popularity')\n",
      "<ipython-input-303-84ea5a385f62>:21: SettingWithCopyWarning: \n",
      "A value is trying to be set on a copy of a slice from a DataFrame.\n",
      "Try using .loc[row_indexer,col_indexer] = value instead\n",
      "\n",
      "See the caveats in the documentation: https://pandas.pydata.org/pandas-docs/stable/user_guide/indexing.html#returning-a-view-versus-a-copy\n",
      "  X_train['tempo'] = NormalizeTrain('tempo')\n"
     ]
    }
   ],
   "source": [
    "## normalising the TRAINING data\n",
    "MaxDict = {\n",
    "    'duration_ms': X_train['duration_ms'].max(),\n",
    "    'tempo': X_train['tempo'].max(),\n",
    "    'popularity': X_train['popularity'].max(),\n",
    "    'loudness': X_train['loudness'].max()\n",
    "}\n",
    "MinDict = {\n",
    "    'duration_ms': X_train['duration_ms'].min(),\n",
    "    'tempo': X_train['tempo'].min(),\n",
    "    'popularity': X_train['popularity'].min(),\n",
    "    'loudness': X_train['loudness'].min()\n",
    "}\n",
    "\n",
    "def NormalizeTrain(c):\n",
    "    return (X_train[c]-MinDict[c])/(MaxDict[c]-MinDict[c])\n",
    "\n",
    "X_train['loudness'] = NormalizeTrain('loudness')\n",
    "X_train['duration_ms'] = NormalizeTrain('duration_ms')\n",
    "X_train['popularity'] = NormalizeTrain('popularity')\n",
    "X_train['tempo'] = NormalizeTrain('tempo')\n",
    "print(X_train.head())"
   ]
  },
  {
   "cell_type": "code",
   "execution_count": 304,
   "id": "7f53fe55",
   "metadata": {},
   "outputs": [],
   "source": [
    "## Constructing the Neural Network\n",
    "model = keras.Sequential()\n",
    "\n",
    "model.add(keras.layers.Dense(35, input_shape=(35,), activation='sigmoid'))\n",
    "model.add(keras.layers.Dense(10, activation='sigmoid'))\n",
    "\n",
    "optimizer = tf.keras.optimizers.Adam(learning_rate=0.001)\n",
    "model.compile(optimizer=optimizer,loss=tf.keras.losses.SparseCategoricalCrossentropy(from_logits=False),\n",
    "              metrics=['sparse_categorical_accuracy'])"
   ]
  },
  {
   "cell_type": "code",
   "execution_count": 305,
   "id": "6a9f04b7",
   "metadata": {},
   "outputs": [
    {
     "name": "stdout",
     "output_type": "stream",
     "text": [
      "Epoch 1/15\n",
      "2028/2028 [==============================] - 6s 3ms/step - loss: 2.0492 - sparse_categorical_accuracy: 0.2828A: 1s - loss: 2.0936 - sparse_categor\n",
      "Epoch 2/15\n",
      "2028/2028 [==============================] - 5s 3ms/step - loss: 1.6943 - sparse_categorical_accuracy: 0.4077\n",
      "Epoch 3/15\n",
      "2028/2028 [==============================] - 6s 3ms/step - loss: 1.5075 - sparse_categorical_accuracy: 0.4646\n",
      "Epoch 4/15\n",
      "2028/2028 [==============================] - 7s 3ms/step - loss: 1.4100 - sparse_categorical_accuracy: 0.4878\n",
      "Epoch 5/15\n",
      "2028/2028 [==============================] - 10s 5ms/step - loss: 1.3529 - sparse_categorical_accuracy: 0.5023: 2s - loss: 1.35\n",
      "Epoch 6/15\n",
      "2028/2028 [==============================] - 10s 5ms/step - loss: 1.3176 - sparse_categorical_accuracy: 0.5103: \n",
      "Epoch 7/15\n",
      "2028/2028 [==============================] - 7s 3ms/step - loss: 1.2943 - sparse_categorical_accuracy: 0.5185\n",
      "Epoch 8/15\n",
      "2028/2028 [==============================] - 4s 2ms/step - loss: 1.2779 - sparse_categorical_accuracy: 0.5218\n",
      "Epoch 9/15\n",
      "2028/2028 [==============================] - 5s 3ms/step - loss: 1.2661 - sparse_categorical_accuracy: 0.5255\n",
      "Epoch 10/15\n",
      "2028/2028 [==============================] - 6s 3ms/step - loss: 1.2569 - sparse_categorical_accuracy: 0.5281A: 1s - loss: 1.2545 - sparse_categ\n",
      "Epoch 11/15\n",
      "2028/2028 [==============================] - 5s 2ms/step - loss: 1.2493 - sparse_categorical_accuracy: 0.5310A: 0s - loss: 1.2487 - sparse_categorical_accurac\n",
      "Epoch 12/15\n",
      "2028/2028 [==============================] - 5s 2ms/step - loss: 1.2435 - sparse_categorical_accuracy: 0.5326\n",
      "Epoch 13/15\n",
      "2028/2028 [==============================] - 5s 2ms/step - loss: 1.2386 - sparse_categorical_accuracy: 0.5334\n",
      "Epoch 14/15\n",
      "2028/2028 [==============================] - 6s 3ms/step - loss: 1.2337 - sparse_categorical_accuracy: 0.5349\n",
      "Epoch 15/15\n",
      "2028/2028 [==============================] - 6s 3ms/step - loss: 1.2298 - sparse_categorical_accuracy: 0.5355\n"
     ]
    }
   ],
   "source": [
    "## Training\n",
    "Y_pred_train = model.fit(X_train, Y_train, batch_size=16, epochs=15)"
   ]
  },
  {
   "cell_type": "code",
   "execution_count": 306,
   "id": "cc826312",
   "metadata": {},
   "outputs": [
    {
     "name": "stdout",
     "output_type": "stream",
     "text": [
      "       popularity  acousticness  danceability  duration_ms  energy  \\\n",
      "4135     0.363636         0.230         0.432     0.105441   0.810   \n",
      "40255    0.000000         0.985         0.423     0.053798   0.152   \n",
      "33635    0.424242         0.595         0.811     0.127887   0.373   \n",
      "30398    0.626263         0.706         0.663     0.075633   0.264   \n",
      "35856    0.505051         0.183         0.728     0.036762   0.604   \n",
      "\n",
      "       instrumentalness  liveness  loudness  speechiness     tempo  ...  \\\n",
      "4135           0.438000    0.7170  0.802306       0.0308  0.351521  ...   \n",
      "40255          0.909000    0.1070  0.479314       0.0451  0.556444  ...   \n",
      "33635          0.144000    0.0427  0.737422       0.0438  0.319482  ...   \n",
      "30398          0.000000    0.1000  0.662823       0.0914  0.474025  ...   \n",
      "35856          0.000005    0.1630  0.843392       0.0429  0.299163  ...   \n",
      "\n",
      "       scale_Gm  scale_G  scale_G#m  scale_G#  scale_Am  scale_A  scale_A#m  \\\n",
      "4135          1        0          0         0         0        0          0   \n",
      "40255         0        0          0         0         0        0          0   \n",
      "33635         0        0          0         0         1        0          0   \n",
      "30398         0        0          0         0         0        0          0   \n",
      "35856         0        0          0         0         0        0          1   \n",
      "\n",
      "       scale_A#  scale_Bm  scale_B  \n",
      "4135          0         0        0  \n",
      "40255         0         0        1  \n",
      "33635         0         0        0  \n",
      "30398         0         0        0  \n",
      "35856         0         0        0  \n",
      "\n",
      "[5 rows x 35 columns]\n"
     ]
    },
    {
     "name": "stderr",
     "output_type": "stream",
     "text": [
      "<ipython-input-306-4f7d18821a54>:5: SettingWithCopyWarning: \n",
      "A value is trying to be set on a copy of a slice from a DataFrame.\n",
      "Try using .loc[row_indexer,col_indexer] = value instead\n",
      "\n",
      "See the caveats in the documentation: https://pandas.pydata.org/pandas-docs/stable/user_guide/indexing.html#returning-a-view-versus-a-copy\n",
      "  X_test['loudness'] = NormalizeTest('loudness')\n",
      "<ipython-input-306-4f7d18821a54>:6: SettingWithCopyWarning: \n",
      "A value is trying to be set on a copy of a slice from a DataFrame.\n",
      "Try using .loc[row_indexer,col_indexer] = value instead\n",
      "\n",
      "See the caveats in the documentation: https://pandas.pydata.org/pandas-docs/stable/user_guide/indexing.html#returning-a-view-versus-a-copy\n",
      "  X_test['duration_ms'] = NormalizeTest('duration_ms')\n",
      "<ipython-input-306-4f7d18821a54>:7: SettingWithCopyWarning: \n",
      "A value is trying to be set on a copy of a slice from a DataFrame.\n",
      "Try using .loc[row_indexer,col_indexer] = value instead\n",
      "\n",
      "See the caveats in the documentation: https://pandas.pydata.org/pandas-docs/stable/user_guide/indexing.html#returning-a-view-versus-a-copy\n",
      "  X_test['popularity'] = NormalizeTest('popularity')\n",
      "<ipython-input-306-4f7d18821a54>:8: SettingWithCopyWarning: \n",
      "A value is trying to be set on a copy of a slice from a DataFrame.\n",
      "Try using .loc[row_indexer,col_indexer] = value instead\n",
      "\n",
      "See the caveats in the documentation: https://pandas.pydata.org/pandas-docs/stable/user_guide/indexing.html#returning-a-view-versus-a-copy\n",
      "  X_test['tempo'] = NormalizeTest('tempo')\n"
     ]
    }
   ],
   "source": [
    "## Normalize the TEST data for testing\n",
    "def NormalizeTest(c):\n",
    "    return (X_test[c]-MinDict[c])/(MaxDict[c]-MinDict[c])\n",
    "\n",
    "X_test['loudness'] = NormalizeTest('loudness')\n",
    "X_test['duration_ms'] = NormalizeTest('duration_ms')\n",
    "X_test['popularity'] = NormalizeTest('popularity')\n",
    "X_test['tempo'] = NormalizeTest('tempo')\n",
    "print(X_test.head())"
   ]
  },
  {
   "cell_type": "code",
   "execution_count": 307,
   "id": "f6edbf89",
   "metadata": {},
   "outputs": [],
   "source": [
    "## Predictions\n",
    "Y_pred_test = model.predict(X_test)\n",
    "Y_pred_tra = model.predict(X_train)"
   ]
  },
  {
   "cell_type": "code",
   "execution_count": 308,
   "id": "fb464b3f",
   "metadata": {},
   "outputs": [
    {
     "name": "stdout",
     "output_type": "stream",
     "text": [
      "Confusion Matrix - Test Dataset\n",
      "[[469  77 107  64  31  19  33  16   7  20]\n",
      " [ 53 520  28  31  26   0  73   4  92   0]\n",
      " [107  24 404  17  37   1  79  36  48  29]\n",
      " [ 53   4  66 245 153  39  21 151   1  64]\n",
      " [ 30  27  44  73 372  11  81 149   0  17]\n",
      " [  8   0   5  36  15 365   0  92   0 261]\n",
      " [ 39 153 110  25  82   1 339  31  11   1]\n",
      " [  7   1  24 100  56  67   0 571   1  13]\n",
      " [ 12  36  52  19   6   0  16   5 675   0]\n",
      " [ 10   0  12  47  19 350   3  37   0 346]]\n",
      "              precision    recall  f1-score   support\n",
      "\n",
      "           0       0.60      0.56      0.58       843\n",
      "           1       0.62      0.63      0.62       827\n",
      "           2       0.47      0.52      0.49       782\n",
      "           3       0.37      0.31      0.34       797\n",
      "           4       0.47      0.46      0.46       804\n",
      "           5       0.43      0.47      0.45       782\n",
      "           6       0.53      0.43      0.47       792\n",
      "           7       0.52      0.68      0.59       840\n",
      "           8       0.81      0.82      0.82       821\n",
      "           9       0.46      0.42      0.44       824\n",
      "\n",
      "    accuracy                           0.53      8112\n",
      "   macro avg       0.53      0.53      0.53      8112\n",
      "weighted avg       0.53      0.53      0.53      8112\n",
      "\n",
      "Confusion Matrix - Train Dataset\n",
      "[[1755  291  416  205  109   69  159   88   23   74]\n",
      " [ 160 2145   82   74  106    4  289   11  365    1]\n",
      " [ 375  100 1712   77  186   19  365  115  244   89]\n",
      " [ 194   23  254 1088  541  170   72  611    5  296]\n",
      " [ 118   75  196  209 1605   48  373  553    9   59]\n",
      " [  13    2   44  170   55 1571    0  348    0 1057]\n",
      " [ 151  529  476  140  277    6 1459  158   52    6]\n",
      " [  19   10  106  355  265  239   10 2215    5   35]\n",
      " [  74  187  147   67   15    0   65   16 2644    0]\n",
      " [  38    0   55  148   67 1346    4  184    0 1411]]\n",
      "              precision    recall  f1-score   support\n",
      "\n",
      "           0       0.61      0.55      0.58      3189\n",
      "           1       0.64      0.66      0.65      3237\n",
      "           2       0.49      0.52      0.51      3282\n",
      "           3       0.43      0.33      0.38      3254\n",
      "           4       0.50      0.49      0.50      3245\n",
      "           5       0.45      0.48      0.47      3260\n",
      "           6       0.52      0.45      0.48      3254\n",
      "           7       0.52      0.68      0.59      3259\n",
      "           8       0.79      0.82      0.81      3215\n",
      "           9       0.47      0.43      0.45      3253\n",
      "\n",
      "    accuracy                           0.54     32448\n",
      "   macro avg       0.54      0.54      0.54     32448\n",
      "weighted avg       0.54      0.54      0.54     32448\n",
      "\n"
     ]
    }
   ],
   "source": [
    "## Computing the Confusion Matrix\n",
    "from sklearn import metrics\n",
    "import random\n",
    "\n",
    "predict = []\n",
    "predict2 = []\n",
    "for k in range(Y_pred_test.shape[0]):\n",
    "    verdict = Y_pred_test[k].tolist()\n",
    "    VerdictGenre = verdict.index(max(verdict))\n",
    "    predict.append(VerdictGenre)\n",
    "\n",
    "for k in range(Y_pred_tra.shape[0]):\n",
    "    verdict2 = Y_pred_tra[k].tolist()\n",
    "    VerdictGenre2 = verdict2.index(max(verdict2))\n",
    "    predict2.append(VerdictGenre2)\n",
    "    \n",
    "print('Confusion Matrix - Test Dataset')\n",
    "print(metrics.confusion_matrix(Y_test, predict))\n",
    "print(metrics.classification_report(Y_test,predict))\n",
    "\n",
    "print('Confusion Matrix - Train Dataset')\n",
    "print(metrics.confusion_matrix(Y_train, predict2))\n",
    "print(metrics.classification_report(Y_train,predict2))"
   ]
  },
  {
   "cell_type": "code",
   "execution_count": 309,
   "id": "040211d7",
   "metadata": {},
   "outputs": [],
   "source": [
    "## Accessing Spotify API\n",
    "import time\n",
    "import pandas as pd\n",
    "import spotipy\n",
    "from spotipy.oauth2 import SpotifyClientCredentials\n",
    "\n",
    "client_id = '6dd7b81de676477d9eb63f64976ea593'\n",
    "client_secret = 'a540d7498de4413495aacea5fa911eb5'\n",
    "\n",
    "client_credentials_manager = SpotifyClientCredentials(client_id=client_id, client_secret=client_secret)\n",
    "sp = spotipy.Spotify(client_credentials_manager=client_credentials_manager)\n",
    "sp.trace=False"
   ]
  },
  {
   "cell_type": "code",
   "execution_count": 310,
   "id": "4769602a",
   "metadata": {},
   "outputs": [
    {
     "name": "stderr",
     "output_type": "stream",
     "text": [
      "Couldn't read cache at: .cache\n",
      "Couldn't write token to cache at: .cache\n",
      "Couldn't read cache at: .cache\n",
      "Couldn't write token to cache at: .cache\n"
     ]
    },
    {
     "name": "stdout",
     "output_type": "stream",
     "text": [
      "[[0.66, 0.316, 0.167, 0.0792204258164862, 0.302, 0.797, 0.11, 0.8059333333333334, 0.0345, 0.4631734732789773, 0.19, 0, 0, 0, 0, 0, 0, 0, 0, 0, 0, 1, 0, 0, 0, 0, 0, 0, 0, 0, 0, 0, 0, 0, 0]]\n"
     ]
    }
   ],
   "source": [
    "## Obtain the row of data of any Spotify track, which contains the exact same columns with the dataset\n",
    "def getscalelist(root,mode):\n",
    "    scale_list = [0]*24\n",
    "    i = 2*(root-1)+mode\n",
    "    scale_list[i] = 1\n",
    "    return scale_list\n",
    "\n",
    "def getTrack(l):\n",
    "    output = []\n",
    "    final = []\n",
    "    for n in range(len(l)):\n",
    "        t = sp.audio_features(l[n])[0]\n",
    "        u = sp.track(l[n])\n",
    "        pop = u['popularity']/100\n",
    "        aco = t['acousticness']\n",
    "        dan = t['danceability']\n",
    "        dur = t['duration_ms']/4497994.0\n",
    "        ene = t['energy']\n",
    "        ins = t['instrumentalness']\n",
    "        liv = t['liveness']\n",
    "        lou = 1 - (t['loudness']/-60)\n",
    "        spe = t['speechiness']\n",
    "        tem = t['tempo']/220.27599999999998\n",
    "        val = t['valence']\n",
    "        sca = getscalelist(t['key'],t['mode'])\n",
    "        final.extend([pop,aco,dan,dur,ene,ins,liv,lou,spe,tem,val])\n",
    "        for x in sca:\n",
    "            final.append(x)\n",
    "        output.append(final)\n",
    "    return output\n",
    "\n",
    "print(getTrack(['spotify:track:2rtGaCAeYtmcIvuZsvgTf6']))"
   ]
  },
  {
   "cell_type": "code",
   "execution_count": 311,
   "id": "eb08de73",
   "metadata": {},
   "outputs": [
    {
     "name": "stderr",
     "output_type": "stream",
     "text": [
      "Couldn't read cache at: .cache\n",
      "Couldn't write token to cache at: .cache\n",
      "Couldn't read cache at: .cache\n",
      "Couldn't write token to cache at: .cache\n",
      "Couldn't read cache at: .cache\n",
      "Couldn't write token to cache at: .cache\n",
      "Couldn't read cache at: .cache\n",
      "Couldn't write token to cache at: .cache\n"
     ]
    },
    {
     "name": "stdout",
     "output_type": "stream",
     "text": [
      "The model predicts the genre of \"Never Gonna Give You Up\" by Rick Astley to be Rock with 15.8% confidence.\n"
     ]
    },
    {
     "data": {
      "image/png": "[encoded data removed]",
      "text/plain": [
       "<Figure size 720x360 with 1 Axes>"
      ]
     },
     "metadata": {
      "needs_background": "light"
     },
     "output_type": "display_data"
    }
   ],
   "source": [
    "## Predict the genre of any Spotify Track\n",
    "GenreDict2 = {\n",
    "    0: \"Electronic\",\n",
    "    1: \"Anime\",\n",
    "    2: \"Jazz\",\n",
    "    3: \"Alternative\",\n",
    "    4: \"Country\",\n",
    "    5: \"Rap\",\n",
    "    6: \"Blues\",\n",
    "    7: \"Rock\",\n",
    "    8: \"Classical\",\n",
    "    9: \"Hip-Hop\",\n",
    "}\n",
    "\n",
    "def PREDICT_URI(URI):\n",
    "    v = getTrack([URI])\n",
    "    probability_model = tf.keras.Sequential([model,tf.keras.layers.Softmax()])\n",
    "    predictions = probability_model.predict(v)\n",
    "    verdict = predictions[0].tolist()\n",
    "    Confidence = max(verdict)\n",
    "    VerdictGenre = GenreDict2[verdict.index(max(verdict))]\n",
    "    TrackName = sp.track(URI)['name']\n",
    "    ArtistName = sp.track(URI)['artists'][0]['name']\n",
    "    xr = ['Electronic','Anime','Jazz','Alternative','Country','Rap','Blues','Rock','Classical','Hip-Hop']\n",
    "    plt.figure(figsize=(10,5))\n",
    "    plt.bar(xr, verdict, width=0.8)\n",
    "    plt.xlabel('Genres')\n",
    "    plt.ylabel('Confidence')\n",
    "    return 'The model predicts the genre of \"{}\" by {} to be {} with {}% confidence.'.format(TrackName,ArtistName,VerdictGenre,round(Confidence*100,1))\n",
    "\n",
    "print(PREDICT_URI('spotify:track:4cOdK2wGLETKBW3PvgPWqT')) ## Insert Track URI in brackets"
   ]
  },
  {
   "cell_type": "code",
   "execution_count": null,
   "id": "72873480",
   "metadata": {},
   "outputs": [],
   "source": []
  }
 ],
 "metadata": {
  "kernelspec": {
   "display_name": "Python 3",
   "language": "python",
   "name": "python3"
  },
  "language_info": {
   "codemirror_mode": {
    "name": "ipython",
    "version": 3
   },
   "file_extension": ".py",
   "mimetype": "text/x-python",
   "name": "python",
   "nbconvert_exporter": "python",
   "pygments_lexer": "ipython3",
   "version": "3.8.8"
  }
 },
 "nbformat": 4,
 "nbformat_minor": 5
}
